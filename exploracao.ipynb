{
 "cells": [
  {
   "cell_type": "markdown",
   "metadata": {},
   "source": [
    "# Exploração de Dados\n",
    "1. Que tipo de dados você tem, majoritariamente (atributos numéricos, textuais)?\n",
    "2. Qual seu objetivo com esse dataset?\n",
    "3. Seu dataset é rotulado de que maneira?\n",
    "4. Como é a distribuição dos dados do dataset?\n",
    "5. Quais colunas/atributos você julga ser interessante manter e remover? Por quê?"
   ]
  },
  {
   "cell_type": "code",
   "execution_count": 1,
   "metadata": {},
   "outputs": [],
   "source": [
    "import numpy as np\n",
    "import pandas as pd\n",
    "import seaborn as sns\n",
    "import matplotlib.pyplot as plt"
   ]
  },
  {
   "cell_type": "code",
   "execution_count": 2,
   "metadata": {},
   "outputs": [],
   "source": [
    "df = pd.read_csv('dataset.csv')"
   ]
  },
  {
   "cell_type": "code",
   "execution_count": 3,
   "metadata": {},
   "outputs": [
    {
     "data": {
      "text/plain": [
       "(67834, 29)"
      ]
     },
     "execution_count": 3,
     "metadata": {},
     "output_type": "execute_result"
    }
   ],
   "source": [
    "df.shape"
   ]
  },
  {
   "cell_type": "code",
   "execution_count": 4,
   "metadata": {},
   "outputs": [],
   "source": [
    "df.columns = [i.lower().strip().replace(' ', '_') for i in df.columns]"
   ]
  },
  {
   "cell_type": "code",
   "execution_count": 5,
   "metadata": {},
   "outputs": [
    {
     "data": {
      "text/html": [
       "<div>\n",
       "<style scoped>\n",
       "    .dataframe tbody tr th:only-of-type {\n",
       "        vertical-align: middle;\n",
       "    }\n",
       "\n",
       "    .dataframe tbody tr th {\n",
       "        vertical-align: top;\n",
       "    }\n",
       "\n",
       "    .dataframe thead th {\n",
       "        text-align: right;\n",
       "    }\n",
       "</style>\n",
       "<table border=\"1\" class=\"dataframe\">\n",
       "  <thead>\n",
       "    <tr style=\"text-align: right;\">\n",
       "      <th></th>\n",
       "      <th>source_port</th>\n",
       "      <th>destination_port</th>\n",
       "      <th>protocol</th>\n",
       "      <th>flow_duration</th>\n",
       "      <th>flow_bytes/s</th>\n",
       "      <th>flow_packets/s</th>\n",
       "      <th>flow_iat_mean</th>\n",
       "      <th>flow_iat_std</th>\n",
       "      <th>flow_iat_max</th>\n",
       "      <th>flow_iat_min</th>\n",
       "      <th>fwd_iat_mean</th>\n",
       "      <th>fwd_iat_std</th>\n",
       "      <th>fwd_iat_max</th>\n",
       "      <th>fwd_iat_min</th>\n",
       "      <th>bwd_iat_mean</th>\n",
       "      <th>bwd_iat_std</th>\n",
       "      <th>bwd_iat_max</th>\n",
       "      <th>bwd_iat_min</th>\n",
       "      <th>active_mean</th>\n",
       "      <th>active_std</th>\n",
       "      <th>active_max</th>\n",
       "      <th>active_min</th>\n",
       "      <th>idle_mean</th>\n",
       "      <th>idle_std</th>\n",
       "      <th>idle_max</th>\n",
       "      <th>idle_min</th>\n",
       "    </tr>\n",
       "  </thead>\n",
       "  <tbody>\n",
       "    <tr>\n",
       "      <th>count</th>\n",
       "      <td>67834.000000</td>\n",
       "      <td>67834.000000</td>\n",
       "      <td>67834.000000</td>\n",
       "      <td>6.783400e+04</td>\n",
       "      <td>6.783200e+04</td>\n",
       "      <td>6.783400e+04</td>\n",
       "      <td>6.783400e+04</td>\n",
       "      <td>6.783400e+04</td>\n",
       "      <td>6.783400e+04</td>\n",
       "      <td>6.783400e+04</td>\n",
       "      <td>6.783400e+04</td>\n",
       "      <td>6.783400e+04</td>\n",
       "      <td>6.783400e+04</td>\n",
       "      <td>6.783400e+04</td>\n",
       "      <td>6.783400e+04</td>\n",
       "      <td>6.783400e+04</td>\n",
       "      <td>6.783400e+04</td>\n",
       "      <td>6.783400e+04</td>\n",
       "      <td>6.783400e+04</td>\n",
       "      <td>67834.0</td>\n",
       "      <td>6.783400e+04</td>\n",
       "      <td>6.783400e+04</td>\n",
       "      <td>6.783400e+04</td>\n",
       "      <td>67834.0</td>\n",
       "      <td>6.783400e+04</td>\n",
       "      <td>6.783400e+04</td>\n",
       "    </tr>\n",
       "    <tr>\n",
       "      <th>mean</th>\n",
       "      <td>37912.753324</td>\n",
       "      <td>11566.395967</td>\n",
       "      <td>12.167291</td>\n",
       "      <td>2.991884e+06</td>\n",
       "      <td>inf</td>\n",
       "      <td>inf</td>\n",
       "      <td>3.155927e+05</td>\n",
       "      <td>2.209662e+05</td>\n",
       "      <td>8.983857e+05</td>\n",
       "      <td>1.924432e+05</td>\n",
       "      <td>3.500551e+05</td>\n",
       "      <td>2.301546e+05</td>\n",
       "      <td>8.696493e+05</td>\n",
       "      <td>2.107766e+05</td>\n",
       "      <td>1.197037e+05</td>\n",
       "      <td>1.191297e+05</td>\n",
       "      <td>4.760216e+05</td>\n",
       "      <td>5.158576e+04</td>\n",
       "      <td>3.887655e+04</td>\n",
       "      <td>0.0</td>\n",
       "      <td>3.887655e+04</td>\n",
       "      <td>3.887655e+04</td>\n",
       "      <td>3.085054e+05</td>\n",
       "      <td>0.0</td>\n",
       "      <td>3.085054e+05</td>\n",
       "      <td>3.085054e+05</td>\n",
       "    </tr>\n",
       "    <tr>\n",
       "      <th>std</th>\n",
       "      <td>20986.077326</td>\n",
       "      <td>18374.765123</td>\n",
       "      <td>5.459410</td>\n",
       "      <td>4.063005e+06</td>\n",
       "      <td>NaN</td>\n",
       "      <td>NaN</td>\n",
       "      <td>6.988069e+05</td>\n",
       "      <td>6.409506e+05</td>\n",
       "      <td>1.738476e+06</td>\n",
       "      <td>5.780313e+05</td>\n",
       "      <td>8.391263e+05</td>\n",
       "      <td>6.798476e+05</td>\n",
       "      <td>1.751949e+06</td>\n",
       "      <td>7.226870e+05</td>\n",
       "      <td>5.661864e+05</td>\n",
       "      <td>4.639722e+05</td>\n",
       "      <td>1.409648e+06</td>\n",
       "      <td>4.873526e+05</td>\n",
       "      <td>3.154634e+05</td>\n",
       "      <td>0.0</td>\n",
       "      <td>3.154634e+05</td>\n",
       "      <td>3.154634e+05</td>\n",
       "      <td>1.453953e+06</td>\n",
       "      <td>0.0</td>\n",
       "      <td>1.453953e+06</td>\n",
       "      <td>1.453953e+06</td>\n",
       "    </tr>\n",
       "    <tr>\n",
       "      <th>min</th>\n",
       "      <td>21.000000</td>\n",
       "      <td>21.000000</td>\n",
       "      <td>6.000000</td>\n",
       "      <td>0.000000e+00</td>\n",
       "      <td>0.000000e+00</td>\n",
       "      <td>2.002581e-01</td>\n",
       "      <td>0.000000e+00</td>\n",
       "      <td>0.000000e+00</td>\n",
       "      <td>0.000000e+00</td>\n",
       "      <td>-2.255000e+03</td>\n",
       "      <td>0.000000e+00</td>\n",
       "      <td>0.000000e+00</td>\n",
       "      <td>0.000000e+00</td>\n",
       "      <td>-3.160000e+02</td>\n",
       "      <td>0.000000e+00</td>\n",
       "      <td>0.000000e+00</td>\n",
       "      <td>0.000000e+00</td>\n",
       "      <td>-3.270000e+02</td>\n",
       "      <td>0.000000e+00</td>\n",
       "      <td>0.0</td>\n",
       "      <td>0.000000e+00</td>\n",
       "      <td>0.000000e+00</td>\n",
       "      <td>0.000000e+00</td>\n",
       "      <td>0.0</td>\n",
       "      <td>0.000000e+00</td>\n",
       "      <td>0.000000e+00</td>\n",
       "    </tr>\n",
       "    <tr>\n",
       "      <th>25%</th>\n",
       "      <td>19305.000000</td>\n",
       "      <td>137.000000</td>\n",
       "      <td>6.000000</td>\n",
       "      <td>4.435975e+04</td>\n",
       "      <td>1.046553e+02</td>\n",
       "      <td>4.861712e+00</td>\n",
       "      <td>9.951270e+03</td>\n",
       "      <td>0.000000e+00</td>\n",
       "      <td>2.892575e+04</td>\n",
       "      <td>2.600000e+01</td>\n",
       "      <td>0.000000e+00</td>\n",
       "      <td>0.000000e+00</td>\n",
       "      <td>0.000000e+00</td>\n",
       "      <td>0.000000e+00</td>\n",
       "      <td>0.000000e+00</td>\n",
       "      <td>0.000000e+00</td>\n",
       "      <td>0.000000e+00</td>\n",
       "      <td>0.000000e+00</td>\n",
       "      <td>0.000000e+00</td>\n",
       "      <td>0.0</td>\n",
       "      <td>0.000000e+00</td>\n",
       "      <td>0.000000e+00</td>\n",
       "      <td>0.000000e+00</td>\n",
       "      <td>0.0</td>\n",
       "      <td>0.000000e+00</td>\n",
       "      <td>0.000000e+00</td>\n",
       "    </tr>\n",
       "    <tr>\n",
       "      <th>50%</th>\n",
       "      <td>43677.000000</td>\n",
       "      <td>443.000000</td>\n",
       "      <td>17.000000</td>\n",
       "      <td>4.108570e+05</td>\n",
       "      <td>1.331365e+03</td>\n",
       "      <td>1.631734e+01</td>\n",
       "      <td>8.344079e+04</td>\n",
       "      <td>0.000000e+00</td>\n",
       "      <td>1.786225e+05</td>\n",
       "      <td>1.371500e+03</td>\n",
       "      <td>1.996805e+04</td>\n",
       "      <td>0.000000e+00</td>\n",
       "      <td>9.849300e+04</td>\n",
       "      <td>3.300000e+01</td>\n",
       "      <td>0.000000e+00</td>\n",
       "      <td>0.000000e+00</td>\n",
       "      <td>0.000000e+00</td>\n",
       "      <td>0.000000e+00</td>\n",
       "      <td>0.000000e+00</td>\n",
       "      <td>0.0</td>\n",
       "      <td>0.000000e+00</td>\n",
       "      <td>0.000000e+00</td>\n",
       "      <td>0.000000e+00</td>\n",
       "      <td>0.0</td>\n",
       "      <td>0.000000e+00</td>\n",
       "      <td>0.000000e+00</td>\n",
       "    </tr>\n",
       "    <tr>\n",
       "      <th>75%</th>\n",
       "      <td>54685.000000</td>\n",
       "      <td>16311.000000</td>\n",
       "      <td>17.000000</td>\n",
       "      <td>7.325550e+06</td>\n",
       "      <td>2.170103e+04</td>\n",
       "      <td>1.007038e+02</td>\n",
       "      <td>4.106090e+05</td>\n",
       "      <td>5.790789e+04</td>\n",
       "      <td>4.641098e+05</td>\n",
       "      <td>2.075310e+05</td>\n",
       "      <td>4.112370e+05</td>\n",
       "      <td>3.034664e+04</td>\n",
       "      <td>4.395022e+05</td>\n",
       "      <td>2.030412e+05</td>\n",
       "      <td>1.787560e+04</td>\n",
       "      <td>9.415839e+03</td>\n",
       "      <td>8.278800e+04</td>\n",
       "      <td>1.700000e+01</td>\n",
       "      <td>0.000000e+00</td>\n",
       "      <td>0.0</td>\n",
       "      <td>0.000000e+00</td>\n",
       "      <td>0.000000e+00</td>\n",
       "      <td>0.000000e+00</td>\n",
       "      <td>0.0</td>\n",
       "      <td>0.000000e+00</td>\n",
       "      <td>0.000000e+00</td>\n",
       "    </tr>\n",
       "    <tr>\n",
       "      <th>max</th>\n",
       "      <td>65534.000000</td>\n",
       "      <td>65514.000000</td>\n",
       "      <td>17.000000</td>\n",
       "      <td>1.000000e+07</td>\n",
       "      <td>inf</td>\n",
       "      <td>inf</td>\n",
       "      <td>9.987113e+06</td>\n",
       "      <td>7.045491e+06</td>\n",
       "      <td>9.998126e+06</td>\n",
       "      <td>9.987113e+06</td>\n",
       "      <td>9.997140e+06</td>\n",
       "      <td>7.065086e+06</td>\n",
       "      <td>9.997140e+06</td>\n",
       "      <td>9.997140e+06</td>\n",
       "      <td>9.996903e+06</td>\n",
       "      <td>7.053719e+06</td>\n",
       "      <td>9.996903e+06</td>\n",
       "      <td>9.996903e+06</td>\n",
       "      <td>4.999893e+06</td>\n",
       "      <td>0.0</td>\n",
       "      <td>4.999893e+06</td>\n",
       "      <td>4.999893e+06</td>\n",
       "      <td>9.998126e+06</td>\n",
       "      <td>0.0</td>\n",
       "      <td>9.998126e+06</td>\n",
       "      <td>9.998126e+06</td>\n",
       "    </tr>\n",
       "  </tbody>\n",
       "</table>\n",
       "</div>"
      ],
      "text/plain": [
       "        source_port  destination_port      protocol  flow_duration  \\\n",
       "count  67834.000000      67834.000000  67834.000000   6.783400e+04   \n",
       "mean   37912.753324      11566.395967     12.167291   2.991884e+06   \n",
       "std    20986.077326      18374.765123      5.459410   4.063005e+06   \n",
       "min       21.000000         21.000000      6.000000   0.000000e+00   \n",
       "25%    19305.000000        137.000000      6.000000   4.435975e+04   \n",
       "50%    43677.000000        443.000000     17.000000   4.108570e+05   \n",
       "75%    54685.000000      16311.000000     17.000000   7.325550e+06   \n",
       "max    65534.000000      65514.000000     17.000000   1.000000e+07   \n",
       "\n",
       "       flow_bytes/s  flow_packets/s  flow_iat_mean  flow_iat_std  \\\n",
       "count  6.783200e+04    6.783400e+04   6.783400e+04  6.783400e+04   \n",
       "mean            inf             inf   3.155927e+05  2.209662e+05   \n",
       "std             NaN             NaN   6.988069e+05  6.409506e+05   \n",
       "min    0.000000e+00    2.002581e-01   0.000000e+00  0.000000e+00   \n",
       "25%    1.046553e+02    4.861712e+00   9.951270e+03  0.000000e+00   \n",
       "50%    1.331365e+03    1.631734e+01   8.344079e+04  0.000000e+00   \n",
       "75%    2.170103e+04    1.007038e+02   4.106090e+05  5.790789e+04   \n",
       "max             inf             inf   9.987113e+06  7.045491e+06   \n",
       "\n",
       "       flow_iat_max  flow_iat_min  fwd_iat_mean   fwd_iat_std   fwd_iat_max  \\\n",
       "count  6.783400e+04  6.783400e+04  6.783400e+04  6.783400e+04  6.783400e+04   \n",
       "mean   8.983857e+05  1.924432e+05  3.500551e+05  2.301546e+05  8.696493e+05   \n",
       "std    1.738476e+06  5.780313e+05  8.391263e+05  6.798476e+05  1.751949e+06   \n",
       "min    0.000000e+00 -2.255000e+03  0.000000e+00  0.000000e+00  0.000000e+00   \n",
       "25%    2.892575e+04  2.600000e+01  0.000000e+00  0.000000e+00  0.000000e+00   \n",
       "50%    1.786225e+05  1.371500e+03  1.996805e+04  0.000000e+00  9.849300e+04   \n",
       "75%    4.641098e+05  2.075310e+05  4.112370e+05  3.034664e+04  4.395022e+05   \n",
       "max    9.998126e+06  9.987113e+06  9.997140e+06  7.065086e+06  9.997140e+06   \n",
       "\n",
       "        fwd_iat_min  bwd_iat_mean   bwd_iat_std   bwd_iat_max   bwd_iat_min  \\\n",
       "count  6.783400e+04  6.783400e+04  6.783400e+04  6.783400e+04  6.783400e+04   \n",
       "mean   2.107766e+05  1.197037e+05  1.191297e+05  4.760216e+05  5.158576e+04   \n",
       "std    7.226870e+05  5.661864e+05  4.639722e+05  1.409648e+06  4.873526e+05   \n",
       "min   -3.160000e+02  0.000000e+00  0.000000e+00  0.000000e+00 -3.270000e+02   \n",
       "25%    0.000000e+00  0.000000e+00  0.000000e+00  0.000000e+00  0.000000e+00   \n",
       "50%    3.300000e+01  0.000000e+00  0.000000e+00  0.000000e+00  0.000000e+00   \n",
       "75%    2.030412e+05  1.787560e+04  9.415839e+03  8.278800e+04  1.700000e+01   \n",
       "max    9.997140e+06  9.996903e+06  7.053719e+06  9.996903e+06  9.996903e+06   \n",
       "\n",
       "        active_mean  active_std    active_max    active_min     idle_mean  \\\n",
       "count  6.783400e+04     67834.0  6.783400e+04  6.783400e+04  6.783400e+04   \n",
       "mean   3.887655e+04         0.0  3.887655e+04  3.887655e+04  3.085054e+05   \n",
       "std    3.154634e+05         0.0  3.154634e+05  3.154634e+05  1.453953e+06   \n",
       "min    0.000000e+00         0.0  0.000000e+00  0.000000e+00  0.000000e+00   \n",
       "25%    0.000000e+00         0.0  0.000000e+00  0.000000e+00  0.000000e+00   \n",
       "50%    0.000000e+00         0.0  0.000000e+00  0.000000e+00  0.000000e+00   \n",
       "75%    0.000000e+00         0.0  0.000000e+00  0.000000e+00  0.000000e+00   \n",
       "max    4.999893e+06         0.0  4.999893e+06  4.999893e+06  9.998126e+06   \n",
       "\n",
       "       idle_std      idle_max      idle_min  \n",
       "count   67834.0  6.783400e+04  6.783400e+04  \n",
       "mean        0.0  3.085054e+05  3.085054e+05  \n",
       "std         0.0  1.453953e+06  1.453953e+06  \n",
       "min         0.0  0.000000e+00  0.000000e+00  \n",
       "25%         0.0  0.000000e+00  0.000000e+00  \n",
       "50%         0.0  0.000000e+00  0.000000e+00  \n",
       "75%         0.0  0.000000e+00  0.000000e+00  \n",
       "max         0.0  9.998126e+06  9.998126e+06  "
      ]
     },
     "execution_count": 5,
     "metadata": {},
     "output_type": "execute_result"
    }
   ],
   "source": [
    "pd.set_option('display.max_columns', None)\n",
    "df.describe()"
   ]
  },
  {
   "cell_type": "markdown",
   "metadata": {},
   "source": [
    "### Remoção de NaN e Inf"
   ]
  },
  {
   "cell_type": "code",
   "execution_count": 6,
   "metadata": {},
   "outputs": [
    {
     "data": {
      "text/html": [
       "<div>\n",
       "<style scoped>\n",
       "    .dataframe tbody tr th:only-of-type {\n",
       "        vertical-align: middle;\n",
       "    }\n",
       "\n",
       "    .dataframe tbody tr th {\n",
       "        vertical-align: top;\n",
       "    }\n",
       "\n",
       "    .dataframe thead th {\n",
       "        text-align: right;\n",
       "    }\n",
       "</style>\n",
       "<table border=\"1\" class=\"dataframe\">\n",
       "  <thead>\n",
       "    <tr style=\"text-align: right;\">\n",
       "      <th></th>\n",
       "      <th>source_ip</th>\n",
       "      <th>source_port</th>\n",
       "      <th>destination_ip</th>\n",
       "      <th>destination_port</th>\n",
       "      <th>protocol</th>\n",
       "      <th>flow_duration</th>\n",
       "      <th>flow_bytes/s</th>\n",
       "      <th>flow_packets/s</th>\n",
       "      <th>flow_iat_mean</th>\n",
       "      <th>flow_iat_std</th>\n",
       "      <th>flow_iat_max</th>\n",
       "      <th>flow_iat_min</th>\n",
       "      <th>fwd_iat_mean</th>\n",
       "      <th>fwd_iat_std</th>\n",
       "      <th>fwd_iat_max</th>\n",
       "      <th>fwd_iat_min</th>\n",
       "      <th>bwd_iat_mean</th>\n",
       "      <th>bwd_iat_std</th>\n",
       "      <th>bwd_iat_max</th>\n",
       "      <th>bwd_iat_min</th>\n",
       "      <th>active_mean</th>\n",
       "      <th>active_std</th>\n",
       "      <th>active_max</th>\n",
       "      <th>active_min</th>\n",
       "      <th>idle_mean</th>\n",
       "      <th>idle_std</th>\n",
       "      <th>idle_max</th>\n",
       "      <th>idle_min</th>\n",
       "      <th>label</th>\n",
       "    </tr>\n",
       "  </thead>\n",
       "  <tbody>\n",
       "    <tr>\n",
       "      <th>67828</th>\n",
       "      <td>10.8.8.134</td>\n",
       "      <td>34251</td>\n",
       "      <td>134.170.18.137</td>\n",
       "      <td>443</td>\n",
       "      <td>6</td>\n",
       "      <td>0</td>\n",
       "      <td>inf</td>\n",
       "      <td>inf</td>\n",
       "      <td>0.0</td>\n",
       "      <td>0.0</td>\n",
       "      <td>0</td>\n",
       "      <td>0</td>\n",
       "      <td>0.0</td>\n",
       "      <td>0.0</td>\n",
       "      <td>0</td>\n",
       "      <td>0</td>\n",
       "      <td>0.0</td>\n",
       "      <td>0.0</td>\n",
       "      <td>0</td>\n",
       "      <td>0</td>\n",
       "      <td>0</td>\n",
       "      <td>0</td>\n",
       "      <td>0</td>\n",
       "      <td>0</td>\n",
       "      <td>0</td>\n",
       "      <td>0</td>\n",
       "      <td>0</td>\n",
       "      <td>0</td>\n",
       "      <td>nonTOR</td>\n",
       "    </tr>\n",
       "    <tr>\n",
       "      <th>67829</th>\n",
       "      <td>131.202.240.183</td>\n",
       "      <td>7116</td>\n",
       "      <td>239.255.255.250</td>\n",
       "      <td>1900</td>\n",
       "      <td>17</td>\n",
       "      <td>0</td>\n",
       "      <td>inf</td>\n",
       "      <td>inf</td>\n",
       "      <td>0.0</td>\n",
       "      <td>0.0</td>\n",
       "      <td>0</td>\n",
       "      <td>0</td>\n",
       "      <td>0.0</td>\n",
       "      <td>0.0</td>\n",
       "      <td>0</td>\n",
       "      <td>0</td>\n",
       "      <td>0.0</td>\n",
       "      <td>0.0</td>\n",
       "      <td>0</td>\n",
       "      <td>0</td>\n",
       "      <td>0</td>\n",
       "      <td>0</td>\n",
       "      <td>0</td>\n",
       "      <td>0</td>\n",
       "      <td>0</td>\n",
       "      <td>0</td>\n",
       "      <td>0</td>\n",
       "      <td>0</td>\n",
       "      <td>nonTOR</td>\n",
       "    </tr>\n",
       "    <tr>\n",
       "      <th>67830</th>\n",
       "      <td>131.202.240.183</td>\n",
       "      <td>7116</td>\n",
       "      <td>239.255.255.250</td>\n",
       "      <td>1900</td>\n",
       "      <td>17</td>\n",
       "      <td>0</td>\n",
       "      <td>inf</td>\n",
       "      <td>inf</td>\n",
       "      <td>0.0</td>\n",
       "      <td>0.0</td>\n",
       "      <td>0</td>\n",
       "      <td>0</td>\n",
       "      <td>0.0</td>\n",
       "      <td>0.0</td>\n",
       "      <td>0</td>\n",
       "      <td>0</td>\n",
       "      <td>0.0</td>\n",
       "      <td>0.0</td>\n",
       "      <td>0</td>\n",
       "      <td>0</td>\n",
       "      <td>0</td>\n",
       "      <td>0</td>\n",
       "      <td>0</td>\n",
       "      <td>0</td>\n",
       "      <td>0</td>\n",
       "      <td>0</td>\n",
       "      <td>0</td>\n",
       "      <td>0</td>\n",
       "      <td>nonTOR</td>\n",
       "    </tr>\n",
       "    <tr>\n",
       "      <th>67831</th>\n",
       "      <td>131.202.240.87</td>\n",
       "      <td>11365</td>\n",
       "      <td>31.13.73.1</td>\n",
       "      <td>443</td>\n",
       "      <td>6</td>\n",
       "      <td>0</td>\n",
       "      <td>inf</td>\n",
       "      <td>inf</td>\n",
       "      <td>0.0</td>\n",
       "      <td>0.0</td>\n",
       "      <td>0</td>\n",
       "      <td>0</td>\n",
       "      <td>0.0</td>\n",
       "      <td>0.0</td>\n",
       "      <td>0</td>\n",
       "      <td>0</td>\n",
       "      <td>0.0</td>\n",
       "      <td>0.0</td>\n",
       "      <td>0</td>\n",
       "      <td>0</td>\n",
       "      <td>0</td>\n",
       "      <td>0</td>\n",
       "      <td>0</td>\n",
       "      <td>0</td>\n",
       "      <td>0</td>\n",
       "      <td>0</td>\n",
       "      <td>0</td>\n",
       "      <td>0</td>\n",
       "      <td>nonTOR</td>\n",
       "    </tr>\n",
       "    <tr>\n",
       "      <th>67832</th>\n",
       "      <td>131.202.6.26</td>\n",
       "      <td>13000</td>\n",
       "      <td>131.202.240.87</td>\n",
       "      <td>64584</td>\n",
       "      <td>6</td>\n",
       "      <td>0</td>\n",
       "      <td>NaN</td>\n",
       "      <td>inf</td>\n",
       "      <td>0.0</td>\n",
       "      <td>0.0</td>\n",
       "      <td>0</td>\n",
       "      <td>0</td>\n",
       "      <td>0.0</td>\n",
       "      <td>0.0</td>\n",
       "      <td>0</td>\n",
       "      <td>0</td>\n",
       "      <td>0.0</td>\n",
       "      <td>0.0</td>\n",
       "      <td>0</td>\n",
       "      <td>0</td>\n",
       "      <td>0</td>\n",
       "      <td>0</td>\n",
       "      <td>0</td>\n",
       "      <td>0</td>\n",
       "      <td>0</td>\n",
       "      <td>0</td>\n",
       "      <td>0</td>\n",
       "      <td>0</td>\n",
       "      <td>nonTOR</td>\n",
       "    </tr>\n",
       "    <tr>\n",
       "      <th>67833</th>\n",
       "      <td>38.124.168.119</td>\n",
       "      <td>80</td>\n",
       "      <td>131.202.240.87</td>\n",
       "      <td>65089</td>\n",
       "      <td>6</td>\n",
       "      <td>0</td>\n",
       "      <td>NaN</td>\n",
       "      <td>inf</td>\n",
       "      <td>0.0</td>\n",
       "      <td>0.0</td>\n",
       "      <td>0</td>\n",
       "      <td>0</td>\n",
       "      <td>0.0</td>\n",
       "      <td>0.0</td>\n",
       "      <td>0</td>\n",
       "      <td>0</td>\n",
       "      <td>0.0</td>\n",
       "      <td>0.0</td>\n",
       "      <td>0</td>\n",
       "      <td>0</td>\n",
       "      <td>0</td>\n",
       "      <td>0</td>\n",
       "      <td>0</td>\n",
       "      <td>0</td>\n",
       "      <td>0</td>\n",
       "      <td>0</td>\n",
       "      <td>0</td>\n",
       "      <td>0</td>\n",
       "      <td>nonTOR</td>\n",
       "    </tr>\n",
       "  </tbody>\n",
       "</table>\n",
       "</div>"
      ],
      "text/plain": [
       "             source_ip  source_port   destination_ip  destination_port  \\\n",
       "67828       10.8.8.134        34251   134.170.18.137               443   \n",
       "67829  131.202.240.183         7116  239.255.255.250              1900   \n",
       "67830  131.202.240.183         7116  239.255.255.250              1900   \n",
       "67831   131.202.240.87        11365       31.13.73.1               443   \n",
       "67832     131.202.6.26        13000   131.202.240.87             64584   \n",
       "67833   38.124.168.119           80   131.202.240.87             65089   \n",
       "\n",
       "       protocol  flow_duration  flow_bytes/s  flow_packets/s  flow_iat_mean  \\\n",
       "67828         6              0           inf             inf            0.0   \n",
       "67829        17              0           inf             inf            0.0   \n",
       "67830        17              0           inf             inf            0.0   \n",
       "67831         6              0           inf             inf            0.0   \n",
       "67832         6              0           NaN             inf            0.0   \n",
       "67833         6              0           NaN             inf            0.0   \n",
       "\n",
       "       flow_iat_std  flow_iat_max  flow_iat_min  fwd_iat_mean  fwd_iat_std  \\\n",
       "67828           0.0             0             0           0.0          0.0   \n",
       "67829           0.0             0             0           0.0          0.0   \n",
       "67830           0.0             0             0           0.0          0.0   \n",
       "67831           0.0             0             0           0.0          0.0   \n",
       "67832           0.0             0             0           0.0          0.0   \n",
       "67833           0.0             0             0           0.0          0.0   \n",
       "\n",
       "       fwd_iat_max  fwd_iat_min  bwd_iat_mean  bwd_iat_std  bwd_iat_max  \\\n",
       "67828            0            0           0.0          0.0            0   \n",
       "67829            0            0           0.0          0.0            0   \n",
       "67830            0            0           0.0          0.0            0   \n",
       "67831            0            0           0.0          0.0            0   \n",
       "67832            0            0           0.0          0.0            0   \n",
       "67833            0            0           0.0          0.0            0   \n",
       "\n",
       "       bwd_iat_min  active_mean  active_std  active_max  active_min  \\\n",
       "67828            0            0           0           0           0   \n",
       "67829            0            0           0           0           0   \n",
       "67830            0            0           0           0           0   \n",
       "67831            0            0           0           0           0   \n",
       "67832            0            0           0           0           0   \n",
       "67833            0            0           0           0           0   \n",
       "\n",
       "       idle_mean  idle_std  idle_max  idle_min   label  \n",
       "67828          0         0         0         0  nonTOR  \n",
       "67829          0         0         0         0  nonTOR  \n",
       "67830          0         0         0         0  nonTOR  \n",
       "67831          0         0         0         0  nonTOR  \n",
       "67832          0         0         0         0  nonTOR  \n",
       "67833          0         0         0         0  nonTOR  "
      ]
     },
     "execution_count": 6,
     "metadata": {},
     "output_type": "execute_result"
    }
   ],
   "source": [
    "df[\n",
    "    (df['flow_packets/s'] == np.inf) | (df['flow_bytes/s'] == np.inf) | (df['flow_bytes/s'] == np.nan)\n",
    "]"
   ]
  },
  {
   "cell_type": "code",
   "execution_count": 7,
   "metadata": {},
   "outputs": [
    {
     "data": {
      "text/html": [
       "<div>\n",
       "<style scoped>\n",
       "    .dataframe tbody tr th:only-of-type {\n",
       "        vertical-align: middle;\n",
       "    }\n",
       "\n",
       "    .dataframe tbody tr th {\n",
       "        vertical-align: top;\n",
       "    }\n",
       "\n",
       "    .dataframe thead th {\n",
       "        text-align: right;\n",
       "    }\n",
       "</style>\n",
       "<table border=\"1\" class=\"dataframe\">\n",
       "  <thead>\n",
       "    <tr style=\"text-align: right;\">\n",
       "      <th></th>\n",
       "      <th>source_port</th>\n",
       "      <th>destination_port</th>\n",
       "      <th>protocol</th>\n",
       "      <th>flow_duration</th>\n",
       "      <th>flow_bytes/s</th>\n",
       "      <th>flow_packets/s</th>\n",
       "      <th>flow_iat_mean</th>\n",
       "      <th>flow_iat_std</th>\n",
       "      <th>flow_iat_max</th>\n",
       "      <th>flow_iat_min</th>\n",
       "      <th>fwd_iat_mean</th>\n",
       "      <th>fwd_iat_std</th>\n",
       "      <th>fwd_iat_max</th>\n",
       "      <th>fwd_iat_min</th>\n",
       "      <th>bwd_iat_mean</th>\n",
       "      <th>bwd_iat_std</th>\n",
       "      <th>bwd_iat_max</th>\n",
       "      <th>bwd_iat_min</th>\n",
       "      <th>active_mean</th>\n",
       "      <th>active_std</th>\n",
       "      <th>active_max</th>\n",
       "      <th>active_min</th>\n",
       "      <th>idle_mean</th>\n",
       "      <th>idle_std</th>\n",
       "      <th>idle_max</th>\n",
       "      <th>idle_min</th>\n",
       "    </tr>\n",
       "  </thead>\n",
       "  <tbody>\n",
       "    <tr>\n",
       "      <th>count</th>\n",
       "      <td>67828.000000</td>\n",
       "      <td>67828.000000</td>\n",
       "      <td>67828.000000</td>\n",
       "      <td>6.782800e+04</td>\n",
       "      <td>6.782800e+04</td>\n",
       "      <td>6.782800e+04</td>\n",
       "      <td>6.782800e+04</td>\n",
       "      <td>6.782800e+04</td>\n",
       "      <td>6.782800e+04</td>\n",
       "      <td>6.782800e+04</td>\n",
       "      <td>6.782800e+04</td>\n",
       "      <td>6.782800e+04</td>\n",
       "      <td>6.782800e+04</td>\n",
       "      <td>6.782800e+04</td>\n",
       "      <td>6.782800e+04</td>\n",
       "      <td>6.782800e+04</td>\n",
       "      <td>6.782800e+04</td>\n",
       "      <td>6.782800e+04</td>\n",
       "      <td>6.782800e+04</td>\n",
       "      <td>67828.0</td>\n",
       "      <td>6.782800e+04</td>\n",
       "      <td>6.782800e+04</td>\n",
       "      <td>6.782800e+04</td>\n",
       "      <td>67828.0</td>\n",
       "      <td>6.782800e+04</td>\n",
       "      <td>6.782800e+04</td>\n",
       "    </tr>\n",
       "    <tr>\n",
       "      <th>mean</th>\n",
       "      <td>37915.031860</td>\n",
       "      <td>11565.438241</td>\n",
       "      <td>12.167512</td>\n",
       "      <td>2.992149e+06</td>\n",
       "      <td>2.535255e+05</td>\n",
       "      <td>3.304669e+03</td>\n",
       "      <td>3.156206e+05</td>\n",
       "      <td>2.209858e+05</td>\n",
       "      <td>8.984652e+05</td>\n",
       "      <td>1.924602e+05</td>\n",
       "      <td>3.500861e+05</td>\n",
       "      <td>2.301750e+05</td>\n",
       "      <td>8.697263e+05</td>\n",
       "      <td>2.107952e+05</td>\n",
       "      <td>1.197143e+05</td>\n",
       "      <td>1.191402e+05</td>\n",
       "      <td>4.760637e+05</td>\n",
       "      <td>5.159032e+04</td>\n",
       "      <td>3.887999e+04</td>\n",
       "      <td>0.0</td>\n",
       "      <td>3.887999e+04</td>\n",
       "      <td>3.887999e+04</td>\n",
       "      <td>3.085327e+05</td>\n",
       "      <td>0.0</td>\n",
       "      <td>3.085327e+05</td>\n",
       "      <td>3.085327e+05</td>\n",
       "    </tr>\n",
       "    <tr>\n",
       "      <th>std</th>\n",
       "      <td>20985.366038</td>\n",
       "      <td>18373.126550</td>\n",
       "      <td>5.459383</td>\n",
       "      <td>4.063087e+06</td>\n",
       "      <td>5.624429e+06</td>\n",
       "      <td>4.955965e+04</td>\n",
       "      <td>6.988315e+05</td>\n",
       "      <td>6.409756e+05</td>\n",
       "      <td>1.738533e+06</td>\n",
       "      <td>5.780540e+05</td>\n",
       "      <td>8.391570e+05</td>\n",
       "      <td>6.798743e+05</td>\n",
       "      <td>1.752007e+06</td>\n",
       "      <td>7.227162e+05</td>\n",
       "      <td>5.662103e+05</td>\n",
       "      <td>4.639914e+05</td>\n",
       "      <td>1.409704e+06</td>\n",
       "      <td>4.873739e+05</td>\n",
       "      <td>3.154771e+05</td>\n",
       "      <td>0.0</td>\n",
       "      <td>3.154771e+05</td>\n",
       "      <td>3.154771e+05</td>\n",
       "      <td>1.454014e+06</td>\n",
       "      <td>0.0</td>\n",
       "      <td>1.454014e+06</td>\n",
       "      <td>1.454014e+06</td>\n",
       "    </tr>\n",
       "    <tr>\n",
       "      <th>min</th>\n",
       "      <td>21.000000</td>\n",
       "      <td>21.000000</td>\n",
       "      <td>6.000000</td>\n",
       "      <td>1.000000e+00</td>\n",
       "      <td>0.000000e+00</td>\n",
       "      <td>2.002581e-01</td>\n",
       "      <td>5.000000e-01</td>\n",
       "      <td>0.000000e+00</td>\n",
       "      <td>1.000000e+00</td>\n",
       "      <td>-2.255000e+03</td>\n",
       "      <td>0.000000e+00</td>\n",
       "      <td>0.000000e+00</td>\n",
       "      <td>0.000000e+00</td>\n",
       "      <td>-3.160000e+02</td>\n",
       "      <td>0.000000e+00</td>\n",
       "      <td>0.000000e+00</td>\n",
       "      <td>0.000000e+00</td>\n",
       "      <td>-3.270000e+02</td>\n",
       "      <td>0.000000e+00</td>\n",
       "      <td>0.0</td>\n",
       "      <td>0.000000e+00</td>\n",
       "      <td>0.000000e+00</td>\n",
       "      <td>0.000000e+00</td>\n",
       "      <td>0.0</td>\n",
       "      <td>0.000000e+00</td>\n",
       "      <td>0.000000e+00</td>\n",
       "    </tr>\n",
       "    <tr>\n",
       "      <th>25%</th>\n",
       "      <td>19305.000000</td>\n",
       "      <td>137.000000</td>\n",
       "      <td>6.000000</td>\n",
       "      <td>4.441375e+04</td>\n",
       "      <td>1.046553e+02</td>\n",
       "      <td>4.861706e+00</td>\n",
       "      <td>9.951649e+03</td>\n",
       "      <td>0.000000e+00</td>\n",
       "      <td>2.899125e+04</td>\n",
       "      <td>2.600000e+01</td>\n",
       "      <td>0.000000e+00</td>\n",
       "      <td>0.000000e+00</td>\n",
       "      <td>0.000000e+00</td>\n",
       "      <td>0.000000e+00</td>\n",
       "      <td>0.000000e+00</td>\n",
       "      <td>0.000000e+00</td>\n",
       "      <td>0.000000e+00</td>\n",
       "      <td>0.000000e+00</td>\n",
       "      <td>0.000000e+00</td>\n",
       "      <td>0.0</td>\n",
       "      <td>0.000000e+00</td>\n",
       "      <td>0.000000e+00</td>\n",
       "      <td>0.000000e+00</td>\n",
       "      <td>0.0</td>\n",
       "      <td>0.000000e+00</td>\n",
       "      <td>0.000000e+00</td>\n",
       "    </tr>\n",
       "    <tr>\n",
       "      <th>50%</th>\n",
       "      <td>43679.500000</td>\n",
       "      <td>443.000000</td>\n",
       "      <td>17.000000</td>\n",
       "      <td>4.108590e+05</td>\n",
       "      <td>1.331268e+03</td>\n",
       "      <td>1.631514e+01</td>\n",
       "      <td>8.345000e+04</td>\n",
       "      <td>0.000000e+00</td>\n",
       "      <td>1.787660e+05</td>\n",
       "      <td>1.373000e+03</td>\n",
       "      <td>1.996837e+04</td>\n",
       "      <td>0.000000e+00</td>\n",
       "      <td>9.865250e+04</td>\n",
       "      <td>3.300000e+01</td>\n",
       "      <td>0.000000e+00</td>\n",
       "      <td>0.000000e+00</td>\n",
       "      <td>0.000000e+00</td>\n",
       "      <td>0.000000e+00</td>\n",
       "      <td>0.000000e+00</td>\n",
       "      <td>0.0</td>\n",
       "      <td>0.000000e+00</td>\n",
       "      <td>0.000000e+00</td>\n",
       "      <td>0.000000e+00</td>\n",
       "      <td>0.0</td>\n",
       "      <td>0.000000e+00</td>\n",
       "      <td>0.000000e+00</td>\n",
       "    </tr>\n",
       "    <tr>\n",
       "      <th>75%</th>\n",
       "      <td>54685.000000</td>\n",
       "      <td>16311.000000</td>\n",
       "      <td>17.000000</td>\n",
       "      <td>7.328698e+06</td>\n",
       "      <td>2.168678e+04</td>\n",
       "      <td>1.007034e+02</td>\n",
       "      <td>4.106090e+05</td>\n",
       "      <td>5.793578e+04</td>\n",
       "      <td>4.642025e+05</td>\n",
       "      <td>2.075365e+05</td>\n",
       "      <td>4.112380e+05</td>\n",
       "      <td>3.036832e+04</td>\n",
       "      <td>4.395868e+05</td>\n",
       "      <td>2.030472e+05</td>\n",
       "      <td>1.788945e+04</td>\n",
       "      <td>9.418744e+03</td>\n",
       "      <td>8.280525e+04</td>\n",
       "      <td>1.700000e+01</td>\n",
       "      <td>0.000000e+00</td>\n",
       "      <td>0.0</td>\n",
       "      <td>0.000000e+00</td>\n",
       "      <td>0.000000e+00</td>\n",
       "      <td>0.000000e+00</td>\n",
       "      <td>0.0</td>\n",
       "      <td>0.000000e+00</td>\n",
       "      <td>0.000000e+00</td>\n",
       "    </tr>\n",
       "    <tr>\n",
       "      <th>max</th>\n",
       "      <td>65534.000000</td>\n",
       "      <td>65514.000000</td>\n",
       "      <td>17.000000</td>\n",
       "      <td>1.000000e+07</td>\n",
       "      <td>6.000000e+08</td>\n",
       "      <td>3.000000e+06</td>\n",
       "      <td>9.987113e+06</td>\n",
       "      <td>7.045491e+06</td>\n",
       "      <td>9.998126e+06</td>\n",
       "      <td>9.987113e+06</td>\n",
       "      <td>9.997140e+06</td>\n",
       "      <td>7.065086e+06</td>\n",
       "      <td>9.997140e+06</td>\n",
       "      <td>9.997140e+06</td>\n",
       "      <td>9.996903e+06</td>\n",
       "      <td>7.053719e+06</td>\n",
       "      <td>9.996903e+06</td>\n",
       "      <td>9.996903e+06</td>\n",
       "      <td>4.999893e+06</td>\n",
       "      <td>0.0</td>\n",
       "      <td>4.999893e+06</td>\n",
       "      <td>4.999893e+06</td>\n",
       "      <td>9.998126e+06</td>\n",
       "      <td>0.0</td>\n",
       "      <td>9.998126e+06</td>\n",
       "      <td>9.998126e+06</td>\n",
       "    </tr>\n",
       "  </tbody>\n",
       "</table>\n",
       "</div>"
      ],
      "text/plain": [
       "        source_port  destination_port      protocol  flow_duration  \\\n",
       "count  67828.000000      67828.000000  67828.000000   6.782800e+04   \n",
       "mean   37915.031860      11565.438241     12.167512   2.992149e+06   \n",
       "std    20985.366038      18373.126550      5.459383   4.063087e+06   \n",
       "min       21.000000         21.000000      6.000000   1.000000e+00   \n",
       "25%    19305.000000        137.000000      6.000000   4.441375e+04   \n",
       "50%    43679.500000        443.000000     17.000000   4.108590e+05   \n",
       "75%    54685.000000      16311.000000     17.000000   7.328698e+06   \n",
       "max    65534.000000      65514.000000     17.000000   1.000000e+07   \n",
       "\n",
       "       flow_bytes/s  flow_packets/s  flow_iat_mean  flow_iat_std  \\\n",
       "count  6.782800e+04    6.782800e+04   6.782800e+04  6.782800e+04   \n",
       "mean   2.535255e+05    3.304669e+03   3.156206e+05  2.209858e+05   \n",
       "std    5.624429e+06    4.955965e+04   6.988315e+05  6.409756e+05   \n",
       "min    0.000000e+00    2.002581e-01   5.000000e-01  0.000000e+00   \n",
       "25%    1.046553e+02    4.861706e+00   9.951649e+03  0.000000e+00   \n",
       "50%    1.331268e+03    1.631514e+01   8.345000e+04  0.000000e+00   \n",
       "75%    2.168678e+04    1.007034e+02   4.106090e+05  5.793578e+04   \n",
       "max    6.000000e+08    3.000000e+06   9.987113e+06  7.045491e+06   \n",
       "\n",
       "       flow_iat_max  flow_iat_min  fwd_iat_mean   fwd_iat_std   fwd_iat_max  \\\n",
       "count  6.782800e+04  6.782800e+04  6.782800e+04  6.782800e+04  6.782800e+04   \n",
       "mean   8.984652e+05  1.924602e+05  3.500861e+05  2.301750e+05  8.697263e+05   \n",
       "std    1.738533e+06  5.780540e+05  8.391570e+05  6.798743e+05  1.752007e+06   \n",
       "min    1.000000e+00 -2.255000e+03  0.000000e+00  0.000000e+00  0.000000e+00   \n",
       "25%    2.899125e+04  2.600000e+01  0.000000e+00  0.000000e+00  0.000000e+00   \n",
       "50%    1.787660e+05  1.373000e+03  1.996837e+04  0.000000e+00  9.865250e+04   \n",
       "75%    4.642025e+05  2.075365e+05  4.112380e+05  3.036832e+04  4.395868e+05   \n",
       "max    9.998126e+06  9.987113e+06  9.997140e+06  7.065086e+06  9.997140e+06   \n",
       "\n",
       "        fwd_iat_min  bwd_iat_mean   bwd_iat_std   bwd_iat_max   bwd_iat_min  \\\n",
       "count  6.782800e+04  6.782800e+04  6.782800e+04  6.782800e+04  6.782800e+04   \n",
       "mean   2.107952e+05  1.197143e+05  1.191402e+05  4.760637e+05  5.159032e+04   \n",
       "std    7.227162e+05  5.662103e+05  4.639914e+05  1.409704e+06  4.873739e+05   \n",
       "min   -3.160000e+02  0.000000e+00  0.000000e+00  0.000000e+00 -3.270000e+02   \n",
       "25%    0.000000e+00  0.000000e+00  0.000000e+00  0.000000e+00  0.000000e+00   \n",
       "50%    3.300000e+01  0.000000e+00  0.000000e+00  0.000000e+00  0.000000e+00   \n",
       "75%    2.030472e+05  1.788945e+04  9.418744e+03  8.280525e+04  1.700000e+01   \n",
       "max    9.997140e+06  9.996903e+06  7.053719e+06  9.996903e+06  9.996903e+06   \n",
       "\n",
       "        active_mean  active_std    active_max    active_min     idle_mean  \\\n",
       "count  6.782800e+04     67828.0  6.782800e+04  6.782800e+04  6.782800e+04   \n",
       "mean   3.887999e+04         0.0  3.887999e+04  3.887999e+04  3.085327e+05   \n",
       "std    3.154771e+05         0.0  3.154771e+05  3.154771e+05  1.454014e+06   \n",
       "min    0.000000e+00         0.0  0.000000e+00  0.000000e+00  0.000000e+00   \n",
       "25%    0.000000e+00         0.0  0.000000e+00  0.000000e+00  0.000000e+00   \n",
       "50%    0.000000e+00         0.0  0.000000e+00  0.000000e+00  0.000000e+00   \n",
       "75%    0.000000e+00         0.0  0.000000e+00  0.000000e+00  0.000000e+00   \n",
       "max    4.999893e+06         0.0  4.999893e+06  4.999893e+06  9.998126e+06   \n",
       "\n",
       "       idle_std      idle_max      idle_min  \n",
       "count   67828.0  6.782800e+04  6.782800e+04  \n",
       "mean        0.0  3.085327e+05  3.085327e+05  \n",
       "std         0.0  1.454014e+06  1.454014e+06  \n",
       "min         0.0  0.000000e+00  0.000000e+00  \n",
       "25%         0.0  0.000000e+00  0.000000e+00  \n",
       "50%         0.0  0.000000e+00  0.000000e+00  \n",
       "75%         0.0  0.000000e+00  0.000000e+00  \n",
       "max         0.0  9.998126e+06  9.998126e+06  "
      ]
     },
     "execution_count": 7,
     "metadata": {},
     "output_type": "execute_result"
    }
   ],
   "source": [
    "# Teste sem as linhas que tem inf e NaN\n",
    "df[~(\n",
    "    (df['flow_packets/s'] == np.inf) | (df['flow_bytes/s'] == np.inf) | (df['flow_bytes/s'] == np.nan)   \n",
    ")].describe()"
   ]
  },
  {
   "cell_type": "code",
   "execution_count": 8,
   "metadata": {},
   "outputs": [],
   "source": [
    "df_novo = df[~(\n",
    "    (df['flow_packets/s'] == np.inf) | (df['flow_bytes/s'] == np.inf) | (df['flow_bytes/s'] == np.nan)   \n",
    ")]"
   ]
  },
  {
   "cell_type": "code",
   "execution_count": 9,
   "metadata": {},
   "outputs": [],
   "source": [
    "df_velho = df\n",
    "df = df_novo"
   ]
  },
  {
   "cell_type": "markdown",
   "metadata": {},
   "source": [
    "## Source and Destination IP"
   ]
  },
  {
   "cell_type": "code",
   "execution_count": 10,
   "metadata": {},
   "outputs": [],
   "source": [
    "ips_nao_publicos = [\n",
    "    '^10\\.', '^172\\.1[6-9]\\.', '^172\\.2[0-9]\\.', '^172\\.3[0-1]\\.', '^192\\.168\\.'\n",
    "]\n",
    "regex_ips = '|'.join(ips_nao_publicos)"
   ]
  },
  {
   "cell_type": "code",
   "execution_count": 11,
   "metadata": {},
   "outputs": [],
   "source": [
    "src_ip = df['source_ip']\n",
    "dst_ip = df['destination_ip']"
   ]
  },
  {
   "cell_type": "code",
   "execution_count": 12,
   "metadata": {},
   "outputs": [
    {
     "name": "stdout",
     "output_type": "stream",
     "text": [
      "IPs origem não públicos: 31790 de 67828\n"
     ]
    },
    {
     "data": {
      "text/plain": [
       "nonTOR    26532\n",
       "TOR        5258\n",
       "Name: label, dtype: int64"
      ]
     },
     "execution_count": 12,
     "metadata": {},
     "output_type": "execute_result"
    }
   ],
   "source": [
    "print('IPs origem não públicos: ', end='')\n",
    "print(src_ip.str.match(regex_ips).sum(), 'de', df.shape[0])\n",
    "df.loc[src_ip.str.match(regex_ips), 'label'].value_counts()"
   ]
  },
  {
   "cell_type": "code",
   "execution_count": 13,
   "metadata": {},
   "outputs": [
    {
     "name": "stdout",
     "output_type": "stream",
     "text": [
      "IPs destino não públicos: 6748 de 67828\n"
     ]
    },
    {
     "data": {
      "text/plain": [
       "nonTOR    3962\n",
       "TOR       2786\n",
       "Name: label, dtype: int64"
      ]
     },
     "execution_count": 13,
     "metadata": {},
     "output_type": "execute_result"
    }
   ],
   "source": [
    "print('IPs destino não públicos: ', end='')\n",
    "print(dst_ip.str.match(regex_ips).sum(), 'de', df.shape[0])\n",
    "df.loc[dst_ip.str.match(regex_ips), 'label'].value_counts()"
   ]
  },
  {
   "cell_type": "markdown",
   "metadata": {},
   "source": [
    "## Source and Destination Ports"
   ]
  },
  {
   "cell_type": "code",
   "execution_count": 14,
   "metadata": {},
   "outputs": [],
   "source": [
    "src_port = df['source_port']\n",
    "dst_port = df['destination_port']"
   ]
  },
  {
   "cell_type": "code",
   "execution_count": 15,
   "metadata": {},
   "outputs": [
    {
     "name": "stdout",
     "output_type": "stream",
     "text": [
      "8628 portas origem no intervalo [0, 1024)\n"
     ]
    },
    {
     "data": {
      "text/plain": [
       "nonTOR    5853\n",
       "TOR       2775\n",
       "Name: label, dtype: int64"
      ]
     },
     "execution_count": 15,
     "metadata": {},
     "output_type": "execute_result"
    }
   ],
   "source": [
    "print(src_port[src_port < 1024].value_counts().sum(), \"portas origem no intervalo [0, 1024)\")\n",
    "df.loc[src_port < 1024, 'label'].value_counts()"
   ]
  },
  {
   "cell_type": "code",
   "execution_count": 16,
   "metadata": {},
   "outputs": [
    {
     "data": {
      "text/plain": [
       "<matplotlib.axes._subplots.AxesSubplot at 0x7f0d13413278>"
      ]
     },
     "execution_count": 16,
     "metadata": {},
     "output_type": "execute_result"
    },
    {
     "data": {
      "image/png": "[encoded data removed]",
      "text/plain": [
       "<Figure size 432x288 with 1 Axes>"
      ]
     },
     "metadata": {
      "needs_background": "light"
     },
     "output_type": "display_data"
    }
   ],
   "source": [
    "src_port.hist(bins=20)"
   ]
  },
  {
   "cell_type": "code",
   "execution_count": 17,
   "metadata": {},
   "outputs": [
    {
     "name": "stdout",
     "output_type": "stream",
     "text": [
      "35788 portas destino no intervalo [0, 1024)\n"
     ]
    },
    {
     "data": {
      "text/plain": [
       "nonTOR    30652\n",
       "TOR        5136\n",
       "Name: label, dtype: int64"
      ]
     },
     "execution_count": 17,
     "metadata": {},
     "output_type": "execute_result"
    }
   ],
   "source": [
    "print(dst_port[dst_port < 1024].value_counts().sum(), \"portas destino no intervalo [0, 1024)\")\n",
    "df.loc[dst_port < 1024, 'label'].value_counts()"
   ]
  },
  {
   "cell_type": "code",
   "execution_count": 18,
   "metadata": {},
   "outputs": [
    {
     "data": {
      "text/plain": [
       "<matplotlib.axes._subplots.AxesSubplot at 0x7f0d1337b7b8>"
      ]
     },
     "execution_count": 18,
     "metadata": {},
     "output_type": "execute_result"
    },
    {
     "data": {
      "image/png": "[encoded data removed]",
      "text/plain": [
       "<Figure size 432x288 with 1 Axes>"
      ]
     },
     "metadata": {
      "needs_background": "light"
     },
     "output_type": "display_data"
    }
   ],
   "source": [
    "dst_port.hist(bins=20)"
   ]
  },
  {
   "cell_type": "markdown",
   "metadata": {},
   "source": [
    "## Protocol"
   ]
  },
  {
   "cell_type": "code",
   "execution_count": 19,
   "metadata": {},
   "outputs": [
    {
     "data": {
      "text/plain": [
       "17    38030\n",
       "6     29798\n",
       "Name: protocol, dtype: int64"
      ]
     },
     "execution_count": 19,
     "metadata": {},
     "output_type": "execute_result"
    }
   ],
   "source": [
    "df['protocol'].value_counts()"
   ]
  },
  {
   "cell_type": "code",
   "execution_count": 20,
   "metadata": {},
   "outputs": [
    {
     "data": {
      "text/plain": [
       "nonTOR    38030\n",
       "Name: label, dtype: int64"
      ]
     },
     "execution_count": 20,
     "metadata": {},
     "output_type": "execute_result"
    }
   ],
   "source": [
    "df[df['protocol'] == 17].loc[:, 'label'].value_counts()"
   ]
  },
  {
   "cell_type": "code",
   "execution_count": 21,
   "metadata": {},
   "outputs": [
    {
     "data": {
      "text/plain": [
       "nonTOR    21754\n",
       "TOR        8044\n",
       "Name: label, dtype: int64"
      ]
     },
     "execution_count": 21,
     "metadata": {},
     "output_type": "execute_result"
    }
   ],
   "source": [
    "df[df['protocol'] == 6].loc[:, 'label'].value_counts()"
   ]
  },
  {
   "cell_type": "markdown",
   "metadata": {},
   "source": [
    "Todos os pacotes que usam o protocolo **17** são classificados como Não-Tor. Então provavelmente este valor se refere ao protocolo UDP, já que o TOR não o suporta."
   ]
  },
  {
   "cell_type": "markdown",
   "metadata": {},
   "source": [
    "## Flow duration, bytes/s, packets/s"
   ]
  },
  {
   "cell_type": "code",
   "execution_count": 22,
   "metadata": {},
   "outputs": [
    {
     "data": {
      "text/plain": [
       "<matplotlib.axes._subplots.AxesSubplot at 0x7f0d130a1cc0>"
      ]
     },
     "execution_count": 22,
     "metadata": {},
     "output_type": "execute_result"
    },
    {
     "data": {
      "image/png": "[encoded data removed]",
      "text/plain": [
       "<Figure size 432x288 with 1 Axes>"
      ]
     },
     "metadata": {
      "needs_background": "light"
     },
     "output_type": "display_data"
    }
   ],
   "source": [
    "sns.boxplot(x='label', y='flow_duration', data=df)"
   ]
  },
  {
   "cell_type": "code",
   "execution_count": 23,
   "metadata": {},
   "outputs": [
    {
     "data": {
      "text/plain": [
       "<matplotlib.axes._subplots.AxesSubplot at 0x7f0d12d99f28>"
      ]
     },
     "execution_count": 23,
     "metadata": {},
     "output_type": "execute_result"
    },
    {
     "data": {
      "image/png": "[encoded data removed]",
      "text/plain": [
       "<Figure size 432x288 with 1 Axes>"
      ]
     },
     "metadata": {
      "needs_background": "light"
     },
     "output_type": "display_data"
    }
   ],
   "source": [
    "sns.boxplot(x='label', y='flow_bytes/s', data=df)"
   ]
  },
  {
   "cell_type": "code",
   "execution_count": 24,
   "metadata": {},
   "outputs": [
    {
     "data": {
      "text/plain": [
       "<matplotlib.axes._subplots.AxesSubplot at 0x7f0d1039f0f0>"
      ]
     },
     "execution_count": 24,
     "metadata": {},
     "output_type": "execute_result"
    },
    {
     "data": {
      "image/png": "[encoded data removed]",
      "text/plain": [
       "<Figure size 432x288 with 1 Axes>"
      ]
     },
     "metadata": {
      "needs_background": "light"
     },
     "output_type": "display_data"
    }
   ],
   "source": [
    "sns.boxplot(x='label', y='flow_packets/s', data=df)"
   ]
  },
  {
   "cell_type": "markdown",
   "metadata": {},
   "source": [
    "## Mean, Std, Min, Max"
   ]
  },
  {
   "cell_type": "code",
   "execution_count": 25,
   "metadata": {},
   "outputs": [
    {
     "name": "stdout",
     "output_type": "stream",
     "text": [
      "20 de 29\n"
     ]
    }
   ],
   "source": [
    "print(df.columns.str.match('.*mean').sum() * 4, \"de\", len(df.columns))"
   ]
  },
  {
   "cell_type": "code",
   "execution_count": 26,
   "metadata": {},
   "outputs": [],
   "source": [
    "def plota_boxplot(variavel):\n",
    "    fig, axs = plt.subplots(1, 4, figsize=(24,5))\n",
    "    sub_df = df.loc[:, df.columns.str.match(variavel)]\n",
    "    for idx, item in enumerate(['mean', 'std', 'min', 'max']):\n",
    "        label_plot = f'{variavel}_{item}'\n",
    "        ax = sns.boxplot(x='label', y=label_plot, data=df, ax=axs[idx])\n",
    "        ax.set_ylabel('')\n",
    "        ax.set_xlabel(label_plot)\n",
    "    fig.suptitle(variavel)"
   ]
  },
  {
   "cell_type": "code",
   "execution_count": 27,
   "metadata": {},
   "outputs": [
    {
     "data": {
      "image/png": "[encoded data removed]",
      "text/plain": [
       "<Figure size 1728x360 with 4 Axes>"
      ]
     },
     "metadata": {
      "needs_background": "light"
     },
     "output_type": "display_data"
    }
   ],
   "source": [
    "plota_boxplot('flow_iat')"
   ]
  },
  {
   "cell_type": "code",
   "execution_count": 28,
   "metadata": {},
   "outputs": [
    {
     "data": {
      "image/png": "[encoded data removed]",
      "text/plain": [
       "<Figure size 1728x360 with 4 Axes>"
      ]
     },
     "metadata": {
      "needs_background": "light"
     },
     "output_type": "display_data"
    }
   ],
   "source": [
    "plota_boxplot('fwd_iat')"
   ]
  },
  {
   "cell_type": "code",
   "execution_count": 29,
   "metadata": {},
   "outputs": [
    {
     "data": {
      "image/png": "[encoded data removed]",
      "text/plain": [
       "<Figure size 1728x360 with 4 Axes>"
      ]
     },
     "metadata": {
      "needs_background": "light"
     },
     "output_type": "display_data"
    }
   ],
   "source": [
    "plota_boxplot('bwd_iat')"
   ]
  },
  {
   "cell_type": "code",
   "execution_count": 30,
   "metadata": {},
   "outputs": [
    {
     "data": {
      "image/png": "[encoded data removed]",
      "text/plain": [
       "<Figure size 1728x360 with 4 Axes>"
      ]
     },
     "metadata": {
      "needs_background": "light"
     },
     "output_type": "display_data"
    }
   ],
   "source": [
    "plota_boxplot('active')"
   ]
  },
  {
   "cell_type": "code",
   "execution_count": 31,
   "metadata": {},
   "outputs": [
    {
     "data": {
      "image/png": "[encoded data removed]",
      "text/plain": [
       "<Figure size 1728x360 with 4 Axes>"
      ]
     },
     "metadata": {
      "needs_background": "light"
     },
     "output_type": "display_data"
    }
   ],
   "source": [
    "plota_boxplot('idle')"
   ]
  },
  {
   "cell_type": "markdown",
   "metadata": {},
   "source": [
    "# Respostas das perguntas"
   ]
  },
  {
   "cell_type": "markdown",
   "metadata": {},
   "source": [
    "### 1. Que tipo de dados você tem, majoritariamente (atributos numéricos, textuais)?\n",
    "Numéricos"
   ]
  },
  {
   "cell_type": "code",
   "execution_count": 32,
   "metadata": {},
   "outputs": [
    {
     "data": {
      "text/plain": [
       "int64      18\n",
       "float64     8\n",
       "object      3\n",
       "dtype: int64"
      ]
     },
     "execution_count": 32,
     "metadata": {},
     "output_type": "execute_result"
    }
   ],
   "source": [
    "df.dtypes.value_counts()"
   ]
  },
  {
   "cell_type": "markdown",
   "metadata": {},
   "source": [
    "### 2. Qual seu objetivo com esse dataset?\n",
    "A partir de amostras de fluxos de 10 segundos de uma rede encriptada,\n",
    "conseguir classificar esse fluxo como Tor ou Não-Tor"
   ]
  },
  {
   "cell_type": "markdown",
   "metadata": {},
   "source": [
    "### 3. Seu dataset é rotulado de que maneira?"
   ]
  },
  {
   "cell_type": "code",
   "execution_count": 33,
   "metadata": {},
   "outputs": [
    {
     "name": "stdout",
     "output_type": "stream",
     "text": [
      "nonTOR, TOR\n"
     ]
    }
   ],
   "source": [
    "print(', '.join(df['label'].unique()))"
   ]
  },
  {
   "cell_type": "markdown",
   "metadata": {},
   "source": [
    "### 4. Como é a distribuição dos dados do dataset?"
   ]
  },
  {
   "cell_type": "code",
   "execution_count": 34,
   "metadata": {},
   "outputs": [
    {
     "name": "stdout",
     "output_type": "stream",
     "text": [
      "nonTOR    59784\n",
      "TOR        8044\n",
      "Name: label, dtype: int64\n"
     ]
    }
   ],
   "source": [
    "print(df['label'].value_counts())"
   ]
  },
  {
   "cell_type": "markdown",
   "metadata": {},
   "source": [
    "### 5. Quais colunas/atributos você julga ser interessante manter e remover? Por quê?"
   ]
  },
  {
   "cell_type": "markdown",
   "metadata": {},
   "source": [
    "As colunas de IP (origem e destino) são atributos textuais e acredito que não faça sentido transformá-los em números. O que é possível fazer é substituir essas colunas por um indicativo de endereço ip privado, mas não acho que seja muito produtivo.\n",
    "\n",
    "O mesmo vale pras colunas de porta, mesmo diferenciando por portas \"bem conhecidas ou de sistema\" que ficam no intervalo [0, 1024).\n",
    "\n",
    "Como o TOR não usa o protocolo UDP, pode ser interessante usar isso na classificação. A única alteração que precisa ser feita é no tipo que é numérico, mas deveria ser um atributo categórico.\n",
    "\n",
    "<!-- 'flow_duration', 'flow_bytes/s', 'flow_packets/s' -->\n",
    "\n",
    "As colunas de fluxo parecem ser as mais relevantes, exceto as `flow_bytes/s` e `flow_packets/s`. Já as colunas que envolvem o tempo de idle e atividade não aparentam ser relevantes, como mostram os gráficos.\n",
    "\n",
    "Então, por enquanto:\n",
    "\n",
    "- **Mantém**\n",
    "\n",
    "       'protocol', 'flow_duration',\n",
    "       'flow_iat_mean', 'flow_iat_std', 'flow_iat_max', 'flow_iat_min',\n",
    "       'fwd_iat_mean', 'fwd_iat_std', 'fwd_iat_max', 'fwd_iat_min',\n",
    "       'bwd_iat_mean', 'bwd_iat_std', 'bwd_iat_max', 'bwd_iat_min',\n",
    "       'label'\n",
    "- **Retira**\n",
    "\n",
    "        'source_ip', 'source_port', 'destination_ip', 'destination_port',\n",
    "        'flow_bytes/s', 'flow_packets/s',\n",
    "        'active_mean', 'active_std', 'active_max', 'active_min',\n",
    "        'idle_mean', 'idle_std', 'idle_max', 'idle_min'"
   ]
  }
 ],
 "metadata": {
  "kernelspec": {
   "display_name": "Python 3",
   "language": "python",
   "name": "python3"
  },
  "language_info": {
   "codemirror_mode": {
    "name": "ipython",
    "version": 3
   },
   "file_extension": ".py",
   "mimetype": "text/x-python",
   "name": "python",
   "nbconvert_exporter": "python",
   "pygments_lexer": "ipython3",
   "version": "3.6.9"
  }
 },
 "nbformat": 4,
 "nbformat_minor": 4
}
